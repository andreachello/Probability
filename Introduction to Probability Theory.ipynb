{
 "cells": [
  {
   "cell_type": "markdown",
   "metadata": {},
   "source": [
    "# Introduction to Probability Theory\n"
   ]
  },
  {
   "cell_type": "markdown",
   "metadata": {},
   "source": [
    "# 1. Sample Spaces\n",
    "\n",
    "<p style=\"text-align:center;\"> <b>Sample Space:   </b> </p>\n",
    "    \n",
    "<p style=\"text-align:center;\"> $\\Omega = \\{ \\text{elements} \\}$</p>\n",
    "\n",
    "<p style=\"text-align:center;\"> $\\Downarrow$ </p>\n",
    "\n",
    "<p style=\"text-align:center;\"> <b>Outcomes:</b> combination of the elements </p>\n",
    "\n",
    "<p style=\"text-align:center;\"> Depends on whether it is done <b> with replacement</b> or <b> without replacement </b> </p>\n",
    "\n",
    "\n",
    "<p style=\"text-align:center;\"> $\\Downarrow$ </p>\n",
    "\n",
    "<p style=\"text-align:center;\"> <b>Events:</b> grouping of these combinations </p>\n",
    "<p style=\"text-align:center;\">$2^n$ </p>\n"
   ]
  },
  {
   "cell_type": "markdown",
   "metadata": {},
   "source": [
    "## a. With Replacement\n",
    "\n",
    "How to determine the number of outcomes\n",
    "\n",
    "### k Trials\n",
    "\n",
    "Selecting $k$ elements out of the $n$ elements\n",
    "\n",
    "<p style=\"text-align:center;\"> $n^k$ </p>\n",
    "\n",
    "### k Trials and m restrictions\n",
    "\n",
    "Selecting $k$ elements out of the $n$ elements exclusing $m$ elements from $n$\n",
    "\n",
    "<p style=\"text-align:center;\"> $(n-m)^k$ </p>\n",
    "\n",
    "## b. Without Replacement\n",
    "\n",
    "How to determine the number of outcomes\n",
    "\n",
    "### k Trials\n",
    "\n",
    "**Step 1:** Find ways to select $k$ elements out of the $n$ elements without the order mattering\n",
    "\n",
    "<p style=\"text-align:center;\"> $C(n,k) = \\begin{pmatrix} n \\\\ k \\end{pmatrix} = \\frac{n!}{(n-k)!k!}$ </p>\n",
    "\n",
    "**Step 2:** Multiply by the ways of ordering the $k$ elements\n",
    "\n",
    "<p style=\"text-align:center;\"> $\\frac{(n)!}{(n-k)!k!} * (k!)$ </p>\n",
    "\n",
    "### k Trials and m restrictions\n",
    "\n",
    "**Step 1:** Find ways to select $k$ elements out of the $n$ elements without the order mattering\n",
    "\n",
    "<p style=\"text-align:center;\"> $C(n-m,k) = \\begin{pmatrix} n-m \\\\ k \\end{pmatrix} = \\frac{(n-m)!}{(n-m-k)!k!}$ </p>\n",
    "\n",
    "**Step 2:** Multiply by the ways of ordering the $k$ elements\n",
    "\n",
    "<p style=\"text-align:center;\"> $\\frac{(n-m)!}{(n-m-k)!k!} * (k!)$ </p>"
   ]
  }
 ],
 "metadata": {
  "kernelspec": {
   "display_name": "Python 3 (system-wide)",
   "language": "python",
   "name": "python3"
  },
  "language_info": {
   "codemirror_mode": {
    "name": "ipython",
    "version": 3
   },
   "file_extension": ".py",
   "mimetype": "text/x-python",
   "name": "python",
   "nbconvert_exporter": "python",
   "pygments_lexer": "ipython3",
   "version": "3.6.9"
  }
 },
 "nbformat": 4,
 "nbformat_minor": 2
}
